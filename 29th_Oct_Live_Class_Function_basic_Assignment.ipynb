{
 "cells": [
  {
   "cell_type": "markdown",
   "id": "e9112fc8",
   "metadata": {},
   "source": [
    "### 1. Write a function which will try to find out len of a string without using an inbuilt len function"
   ]
  },
  {
   "cell_type": "code",
   "execution_count": 14,
   "id": "ecce4e86",
   "metadata": {},
   "outputs": [],
   "source": [
    "def find_str_len(string_value):\n",
    "    lenth = 0;\n",
    "    for i in string_value:\n",
    "        lenth = lenth + 1\n",
    "    return lenth;"
   ]
  },
  {
   "cell_type": "code",
   "execution_count": 15,
   "id": "7a00c1e7",
   "metadata": {},
   "outputs": [
    {
     "data": {
      "text/plain": [
       "22"
      ]
     },
     "execution_count": 15,
     "metadata": {},
     "output_type": "execute_result"
    }
   ],
   "source": [
    "str_value = \"My name Is Amin Shairf\"\n",
    "find_str_len(str_value)"
   ]
  },
  {
   "cell_type": "markdown",
   "id": "53779553",
   "metadata": {},
   "source": [
    "### 2. Write a function which  will be able to print an index of list element without using an index function"
   ]
  },
  {
   "cell_type": "code",
   "execution_count": 6,
   "id": "34745997",
   "metadata": {},
   "outputs": [],
   "source": [
    "def find_index(list_value):\n",
    "    for i, value in enumerate(list_value):\n",
    "        print(i)"
   ]
  },
  {
   "cell_type": "code",
   "execution_count": 7,
   "id": "342171fa",
   "metadata": {},
   "outputs": [
    {
     "name": "stdout",
     "output_type": "stream",
     "text": [
      "0\n",
      "1\n",
      "2\n"
     ]
    }
   ],
   "source": [
    "lst = [\"eat\", \"sleep\", \"repeat\"]\n",
    "find_index(lst)"
   ]
  },
  {
   "cell_type": "markdown",
   "id": "2349376b",
   "metadata": {},
   "source": [
    "### 3. Write a function which will be able to print an ip address of your system"
   ]
  },
  {
   "cell_type": "code",
   "execution_count": 21,
   "id": "0bd08e96",
   "metadata": {},
   "outputs": [],
   "source": [
    "import socket\n",
    "def get_ip_address():\n",
    "    host_name = socket.gethostname()\n",
    "    ip_Address = socket.gethostbyname(host_name)\n",
    "    print('Your computer IP Address is: '+ ip_Address)\n",
    "    "
   ]
  },
  {
   "cell_type": "markdown",
   "id": "7d337ed8",
   "metadata": {},
   "source": [
    "### 4. Write a function which will shutdown your system"
   ]
  },
  {
   "cell_type": "code",
   "execution_count": 5,
   "id": "bff91081",
   "metadata": {},
   "outputs": [],
   "source": [
    "import os\n",
    "\n",
    "def shutdown():\n",
    "    return os.system('shutdown /s /t 1')"
   ]
  },
  {
   "cell_type": "markdown",
   "id": "09cbbc5a",
   "metadata": {},
   "source": [
    "### 5. Write a function which will take input as a list with any kind of numeric value and give an out as a multiplication of all the numeric data l = [3.5, 6.56, 4,5,\"sudh\" , \"ineuron\" , 'fsda bootcamp 2.0']"
   ]
  },
  {
   "cell_type": "code",
   "execution_count": 11,
   "id": "706795a9",
   "metadata": {},
   "outputs": [],
   "source": [
    "def multiplication_numeric_value(lst):\n",
    "    result = 1\n",
    "    for value in lst:\n",
    "        if type(value) == int or type(value) == float:\n",
    "            result = result * value;\n",
    "    return result;"
   ]
  },
  {
   "cell_type": "code",
   "execution_count": 12,
   "id": "2f323c36",
   "metadata": {},
   "outputs": [
    {
     "data": {
      "text/plain": [
       "459.19999999999993"
      ]
     },
     "execution_count": 12,
     "metadata": {},
     "output_type": "execute_result"
    }
   ],
   "source": [
    "l = [3.5, 6.56, 4,5,\"sudh\" , \"ineuron\" , 'fsda bootcamp 2.0']\n",
    "multiplication_numeric_value(l)"
   ]
  },
  {
   "cell_type": "markdown",
   "id": "aabe00c5",
   "metadata": {},
   "source": [
    "### 6. Write a function which will be able to read all the mails"
   ]
  },
  {
   "cell_type": "code",
   "execution_count": 16,
   "id": "23178e2b",
   "metadata": {},
   "outputs": [],
   "source": [
    "import imaplib\n",
    "import email\n",
    "\n",
    "def read_email_from_gmail(email, password):\n",
    "        mail = imaplib.IMAP4_SSL('imap.gmail.com')\n",
    "        mail.login(email, password)\n",
    "        mail.select('inbox')\n",
    "\n",
    "        result, data = mail.search(None, 'ALL')\n",
    "        mail_ids = data[0]\n",
    "\n",
    "        id_list = mail_ids.split()   \n",
    "        first_email_id = int(id_list[0])\n",
    "        latest_email_id = int(id_list[-1])\n",
    "\n",
    "        for i in range(latest_email_id,first_email_id, -1):\n",
    "            result, data = mail.fetch(str(i), '(RFC822)' )\n",
    "\n",
    "            for response_part in data:\n",
    "                if isinstance(response_part, tuple):\n",
    "                    msg = email.message_from_bytes(response_part[1])\n",
    "                    email_subject = msg['subject']\n",
    "                    email_from = msg['from']\n",
    "                    print ('From : ' + email_from + '\\n')\n",
    "                    print ('Subject : ' + email_subject + '\\n')\n",
    "\n"
   ]
  },
  {
   "cell_type": "markdown",
   "id": "19df19cf",
   "metadata": {},
   "source": [
    "### 7. Write a function which will be able to send a mail to anyone \n"
   ]
  },
  {
   "cell_type": "code",
   "execution_count": 9,
   "id": "4d99de4e",
   "metadata": {},
   "outputs": [],
   "source": [
    "import smtplib, ssl\n",
    "\n",
    "settings = {\n",
    "    \"port\" : 587,\n",
    "    \"smtp_server\" : \"smtp.gmail.com\",\n",
    "    \"sender_email\" : \"sender_email here\",\n",
    "    \"password\" : 'sender_email password',\n",
    "}\n",
    "\n",
    "def email(request, receiver_email, subject, body):\n",
    "    port = settings[\"port\"]\n",
    "    smtp_server = settings[\"smtp_server\"]\n",
    "    sender_email = settings[\"sender_email\"]\n",
    "    password = settings[\"password\"]\n",
    "    message = 'Subject: {}\\n\\n{}'.format(subject, body)\n",
    "    context = ssl.create_default_context()\n",
    "    \n",
    "    with smtplib.SMTP(smtp_server, port) as server:\n",
    "        server.ehlo() \n",
    "        server.starttls(context=context)\n",
    "        server.ehlo()\n",
    "        server.login(sender_email, password)\n",
    "        server.sendmail(sender_email, receiver_email, message)\n",
    "    return redirect('index')\n"
   ]
  },
  {
   "cell_type": "markdown",
   "id": "54fe8bfd",
   "metadata": {},
   "source": [
    "### 8. Write a function which will be able to read a doc/word file from your system "
   ]
  },
  {
   "cell_type": "code",
   "execution_count": 8,
   "id": "b0546754",
   "metadata": {},
   "outputs": [],
   "source": [
    "import docx\n",
    "\n",
    "def readtxt(filename):\n",
    "    doc = docx.Document(filename)\n",
    "    fullText = []\n",
    "    for para in doc.paragraphs:\n",
    "        fullText.append(para.text)\n",
    "    return '\\n'.join(fullText)\n",
    "\n",
    "doc_path = r'Put doc_path here';\n",
    "print (readtxt(doc_path))"
   ]
  },
  {
   "cell_type": "code",
   "execution_count": null,
   "id": "5212570e",
   "metadata": {},
   "outputs": [],
   "source": []
  }
 ],
 "metadata": {
  "kernelspec": {
   "display_name": "Python 3 (ipykernel)",
   "language": "python",
   "name": "python3"
  },
  "language_info": {
   "codemirror_mode": {
    "name": "ipython",
    "version": 3
   },
   "file_extension": ".py",
   "mimetype": "text/x-python",
   "name": "python",
   "nbconvert_exporter": "python",
   "pygments_lexer": "ipython3",
   "version": "3.9.7"
  }
 },
 "nbformat": 4,
 "nbformat_minor": 5
}
